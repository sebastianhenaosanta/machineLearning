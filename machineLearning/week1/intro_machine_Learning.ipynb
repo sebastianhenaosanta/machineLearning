{
 "cells": [
  {
   "cell_type": "markdown",
   "metadata": {},
   "source": [
    "# Machine Learning\n",
    "\n",
    "![\"machine\"](./machinelearning.png)\n",
    "\n",
    "## What is Machine Learning?\n",
    "\n",
    "* Arthur Samuel(1959). **Machine Learning**: Field of study that gives computers the ability to learn without being explicity programmed.\n",
    "* Tom Mitchel(1998) well-posed learning problem: A computer program is said to learn from experience **E** with respect to some task **T** and some performance measured **P** on **T**, as measured by **P**, improves with experience E.\n",
    "\n",
    "# Machine learning algorithms:\n",
    "\n",
    "- Superviced Learning.\n",
    "- Unsuperviced Learning.\n",
    "\n",
    "others: Reinforcement Learning, recomender systems.\n",
    "\n",
    "\n"
   ]
  },
  {
   "cell_type": "code",
   "execution_count": null,
   "metadata": {},
   "outputs": [],
   "source": []
  }
 ],
 "metadata": {
  "kernelspec": {
   "display_name": "Python 3",
   "language": "python",
   "name": "python3"
  },
  "language_info": {
   "codemirror_mode": {
    "name": "ipython",
    "version": 3
   },
   "file_extension": ".py",
   "mimetype": "text/x-python",
   "name": "python",
   "nbconvert_exporter": "python",
   "pygments_lexer": "ipython3",
   "version": "3.6.9"
  }
 },
 "nbformat": 4,
 "nbformat_minor": 4
}
